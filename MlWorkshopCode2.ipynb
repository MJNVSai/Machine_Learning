{
  "nbformat": 4,
  "nbformat_minor": 0,
  "metadata": {
    "colab": {
      "provenance": []
    },
    "kernelspec": {
      "name": "python3",
      "display_name": "Python 3"
    },
    "language_info": {
      "name": "python"
    }
  },
  "cells": [
    {
      "cell_type": "code",
      "execution_count": null,
      "metadata": {
        "id": "3cXeqSqn1B2d"
      },
      "outputs": [],
      "source": [
        "#import modules\n",
        "import numpy as np\n",
        "import pandas as pd"
      ]
    },
    {
      "cell_type": "code",
      "source": [
        "from google.colab import drive\n",
        "drive.mount('/content/drive')"
      ],
      "metadata": {
        "colab": {
          "base_uri": "https://localhost:8080/"
        },
        "id": "DsXoAhfU1NFH",
        "outputId": "9a92eb0a-a064-41c7-825b-cb828c948caf"
      },
      "execution_count": null,
      "outputs": [
        {
          "output_type": "stream",
          "name": "stdout",
          "text": [
            "Mounted at /content/drive\n"
          ]
        }
      ]
    },
    {
      "cell_type": "code",
      "source": [
        "#load data\n",
        "dataset_path = '/content/diabetes.csv'\n",
        "data = pd.read_csv(dataset_path)\n",
        "\n",
        "data.head()"
      ],
      "metadata": {
        "colab": {
          "base_uri": "https://localhost:8080/",
          "height": 206
        },
        "id": "R5I3yU-w1Ove",
        "outputId": "2cf9fce3-e39e-4d81-8b77-f7106ead0803"
      },
      "execution_count": null,
      "outputs": [
        {
          "output_type": "execute_result",
          "data": {
            "text/plain": [
              "   Pregnancies  Glucose  BloodPressure  SkinThickness  Insulin   BMI  \\\n",
              "0            6      148             72             35        0  33.6   \n",
              "1            1       85             66             29        0  26.6   \n",
              "2            8      183             64              0        0  23.3   \n",
              "3            1       89             66             23       94  28.1   \n",
              "4            0      137             40             35      168  43.1   \n",
              "\n",
              "   DiabetesPedigreeFunction  Age  Outcome  \n",
              "0                     0.627   50        1  \n",
              "1                     0.351   31        0  \n",
              "2                     0.672   32        1  \n",
              "3                     0.167   21        0  \n",
              "4                     2.288   33        1  "
            ],
            "text/html": [
              "\n",
              "  <div id=\"df-391d1aa2-0780-4f1b-80d4-6076a03b9b75\">\n",
              "    <div class=\"colab-df-container\">\n",
              "      <div>\n",
              "<style scoped>\n",
              "    .dataframe tbody tr th:only-of-type {\n",
              "        vertical-align: middle;\n",
              "    }\n",
              "\n",
              "    .dataframe tbody tr th {\n",
              "        vertical-align: top;\n",
              "    }\n",
              "\n",
              "    .dataframe thead th {\n",
              "        text-align: right;\n",
              "    }\n",
              "</style>\n",
              "<table border=\"1\" class=\"dataframe\">\n",
              "  <thead>\n",
              "    <tr style=\"text-align: right;\">\n",
              "      <th></th>\n",
              "      <th>Pregnancies</th>\n",
              "      <th>Glucose</th>\n",
              "      <th>BloodPressure</th>\n",
              "      <th>SkinThickness</th>\n",
              "      <th>Insulin</th>\n",
              "      <th>BMI</th>\n",
              "      <th>DiabetesPedigreeFunction</th>\n",
              "      <th>Age</th>\n",
              "      <th>Outcome</th>\n",
              "    </tr>\n",
              "  </thead>\n",
              "  <tbody>\n",
              "    <tr>\n",
              "      <th>0</th>\n",
              "      <td>6</td>\n",
              "      <td>148</td>\n",
              "      <td>72</td>\n",
              "      <td>35</td>\n",
              "      <td>0</td>\n",
              "      <td>33.6</td>\n",
              "      <td>0.627</td>\n",
              "      <td>50</td>\n",
              "      <td>1</td>\n",
              "    </tr>\n",
              "    <tr>\n",
              "      <th>1</th>\n",
              "      <td>1</td>\n",
              "      <td>85</td>\n",
              "      <td>66</td>\n",
              "      <td>29</td>\n",
              "      <td>0</td>\n",
              "      <td>26.6</td>\n",
              "      <td>0.351</td>\n",
              "      <td>31</td>\n",
              "      <td>0</td>\n",
              "    </tr>\n",
              "    <tr>\n",
              "      <th>2</th>\n",
              "      <td>8</td>\n",
              "      <td>183</td>\n",
              "      <td>64</td>\n",
              "      <td>0</td>\n",
              "      <td>0</td>\n",
              "      <td>23.3</td>\n",
              "      <td>0.672</td>\n",
              "      <td>32</td>\n",
              "      <td>1</td>\n",
              "    </tr>\n",
              "    <tr>\n",
              "      <th>3</th>\n",
              "      <td>1</td>\n",
              "      <td>89</td>\n",
              "      <td>66</td>\n",
              "      <td>23</td>\n",
              "      <td>94</td>\n",
              "      <td>28.1</td>\n",
              "      <td>0.167</td>\n",
              "      <td>21</td>\n",
              "      <td>0</td>\n",
              "    </tr>\n",
              "    <tr>\n",
              "      <th>4</th>\n",
              "      <td>0</td>\n",
              "      <td>137</td>\n",
              "      <td>40</td>\n",
              "      <td>35</td>\n",
              "      <td>168</td>\n",
              "      <td>43.1</td>\n",
              "      <td>2.288</td>\n",
              "      <td>33</td>\n",
              "      <td>1</td>\n",
              "    </tr>\n",
              "  </tbody>\n",
              "</table>\n",
              "</div>\n",
              "      <button class=\"colab-df-convert\" onclick=\"convertToInteractive('df-391d1aa2-0780-4f1b-80d4-6076a03b9b75')\"\n",
              "              title=\"Convert this dataframe to an interactive table.\"\n",
              "              style=\"display:none;\">\n",
              "        \n",
              "  <svg xmlns=\"http://www.w3.org/2000/svg\" height=\"24px\"viewBox=\"0 0 24 24\"\n",
              "       width=\"24px\">\n",
              "    <path d=\"M0 0h24v24H0V0z\" fill=\"none\"/>\n",
              "    <path d=\"M18.56 5.44l.94 2.06.94-2.06 2.06-.94-2.06-.94-.94-2.06-.94 2.06-2.06.94zm-11 1L8.5 8.5l.94-2.06 2.06-.94-2.06-.94L8.5 2.5l-.94 2.06-2.06.94zm10 10l.94 2.06.94-2.06 2.06-.94-2.06-.94-.94-2.06-.94 2.06-2.06.94z\"/><path d=\"M17.41 7.96l-1.37-1.37c-.4-.4-.92-.59-1.43-.59-.52 0-1.04.2-1.43.59L10.3 9.45l-7.72 7.72c-.78.78-.78 2.05 0 2.83L4 21.41c.39.39.9.59 1.41.59.51 0 1.02-.2 1.41-.59l7.78-7.78 2.81-2.81c.8-.78.8-2.07 0-2.86zM5.41 20L4 18.59l7.72-7.72 1.47 1.35L5.41 20z\"/>\n",
              "  </svg>\n",
              "      </button>\n",
              "      \n",
              "  <style>\n",
              "    .colab-df-container {\n",
              "      display:flex;\n",
              "      flex-wrap:wrap;\n",
              "      gap: 12px;\n",
              "    }\n",
              "\n",
              "    .colab-df-convert {\n",
              "      background-color: #E8F0FE;\n",
              "      border: none;\n",
              "      border-radius: 50%;\n",
              "      cursor: pointer;\n",
              "      display: none;\n",
              "      fill: #1967D2;\n",
              "      height: 32px;\n",
              "      padding: 0 0 0 0;\n",
              "      width: 32px;\n",
              "    }\n",
              "\n",
              "    .colab-df-convert:hover {\n",
              "      background-color: #E2EBFA;\n",
              "      box-shadow: 0px 1px 2px rgba(60, 64, 67, 0.3), 0px 1px 3px 1px rgba(60, 64, 67, 0.15);\n",
              "      fill: #174EA6;\n",
              "    }\n",
              "\n",
              "    [theme=dark] .colab-df-convert {\n",
              "      background-color: #3B4455;\n",
              "      fill: #D2E3FC;\n",
              "    }\n",
              "\n",
              "    [theme=dark] .colab-df-convert:hover {\n",
              "      background-color: #434B5C;\n",
              "      box-shadow: 0px 1px 3px 1px rgba(0, 0, 0, 0.15);\n",
              "      filter: drop-shadow(0px 1px 2px rgba(0, 0, 0, 0.3));\n",
              "      fill: #FFFFFF;\n",
              "    }\n",
              "  </style>\n",
              "\n",
              "      <script>\n",
              "        const buttonEl =\n",
              "          document.querySelector('#df-391d1aa2-0780-4f1b-80d4-6076a03b9b75 button.colab-df-convert');\n",
              "        buttonEl.style.display =\n",
              "          google.colab.kernel.accessAllowed ? 'block' : 'none';\n",
              "\n",
              "        async function convertToInteractive(key) {\n",
              "          const element = document.querySelector('#df-391d1aa2-0780-4f1b-80d4-6076a03b9b75');\n",
              "          const dataTable =\n",
              "            await google.colab.kernel.invokeFunction('convertToInteractive',\n",
              "                                                     [key], {});\n",
              "          if (!dataTable) return;\n",
              "\n",
              "          const docLinkHtml = 'Like what you see? Visit the ' +\n",
              "            '<a target=\"_blank\" href=https://colab.research.google.com/notebooks/data_table.ipynb>data table notebook</a>'\n",
              "            + ' to learn more about interactive tables.';\n",
              "          element.innerHTML = '';\n",
              "          dataTable['output_type'] = 'display_data';\n",
              "          await google.colab.output.renderOutput(dataTable, element);\n",
              "          const docLink = document.createElement('div');\n",
              "          docLink.innerHTML = docLinkHtml;\n",
              "          element.appendChild(docLink);\n",
              "        }\n",
              "      </script>\n",
              "    </div>\n",
              "  </div>\n",
              "  "
            ]
          },
          "metadata": {},
          "execution_count": 3
        }
      ]
    },
    {
      "cell_type": "code",
      "source": [
        "# extract features and labeles from data\n",
        "X = data.drop('Outcome', axis=1)\n",
        "y = data['Outcome'].values"
      ],
      "metadata": {
        "id": "y06e48j_1WM2"
      },
      "execution_count": null,
      "outputs": []
    },
    {
      "cell_type": "code",
      "source": [
        "type(X),type(y)"
      ],
      "metadata": {
        "colab": {
          "base_uri": "https://localhost:8080/"
        },
        "id": "-IuTGH8M1YM-",
        "outputId": "9282af95-008a-421f-d0b7-dde6dff3afaa"
      },
      "execution_count": null,
      "outputs": [
        {
          "output_type": "execute_result",
          "data": {
            "text/plain": [
              "(pandas.core.frame.DataFrame, numpy.ndarray)"
            ]
          },
          "metadata": {},
          "execution_count": 5
        }
      ]
    },
    {
      "cell_type": "code",
      "source": [
        "# split data into train & test sets\n",
        "from sklearn.model_selection import train_test_split\n",
        "X_train, X_test, Y_train, Y_test = train_test_split(X, y, test_size=0.5)"
      ],
      "metadata": {
        "id": "evh5r_7J1Z7W"
      },
      "execution_count": null,
      "outputs": []
    },
    {
      "cell_type": "code",
      "source": [
        "X_train.shape,X_test.shape"
      ],
      "metadata": {
        "colab": {
          "base_uri": "https://localhost:8080/"
        },
        "id": "LeckdAHT1b02",
        "outputId": "9f815c25-e153-447b-a658-3eb1a04cdda3"
      },
      "execution_count": null,
      "outputs": [
        {
          "output_type": "execute_result",
          "data": {
            "text/plain": [
              "((384, 8), (384, 8))"
            ]
          },
          "metadata": {},
          "execution_count": 7
        }
      ]
    },
    {
      "cell_type": "code",
      "source": [
        "X.shape[1]"
      ],
      "metadata": {
        "colab": {
          "base_uri": "https://localhost:8080/"
        },
        "id": "105w3pQM1df9",
        "outputId": "5e818196-1806-45a4-d54a-eeff1ba9ee85"
      },
      "execution_count": null,
      "outputs": [
        {
          "output_type": "execute_result",
          "data": {
            "text/plain": [
              "8"
            ]
          },
          "metadata": {},
          "execution_count": 8
        }
      ]
    },
    {
      "cell_type": "code",
      "source": [
        "#converting the input features to a binary format\n",
        "\n",
        "X_binarised_train = X_train.apply(pd.cut, bins=2, labels=[1,0]).values\n",
        "X_binarised_test = X_test.apply(pd.cut, bins=2, labels=[1,0]).values"
      ],
      "metadata": {
        "id": "WJVS_7Io1fIt"
      },
      "execution_count": null,
      "outputs": []
    },
    {
      "cell_type": "code",
      "source": [
        "X_binarised_train.shape,X_binarised_test.shape"
      ],
      "metadata": {
        "colab": {
          "base_uri": "https://localhost:8080/"
        },
        "id": "iA_tbh481g12",
        "outputId": "f60b168d-31a0-46d2-9465-2f3e8b5d2ea0"
      },
      "execution_count": null,
      "outputs": [
        {
          "output_type": "execute_result",
          "data": {
            "text/plain": [
              "((384, 8), (384, 8))"
            ]
          },
          "metadata": {},
          "execution_count": 10
        }
      ]
    },
    {
      "cell_type": "code",
      "source": [
        "# define MP Neuron Class with necessary methods\n",
        "class MPNeuron:\n",
        "  \n",
        "    def __init__(self):\n",
        "        self.b = None\n",
        "\n",
        "    def model(self, x):\n",
        "        return(sum(x) >= self.b)\n",
        "\n",
        "    def predict(self, X):\n",
        "        Y = []\n",
        "        for x in X:\n",
        "            result = self.model(x)\n",
        "            Y.append(result)\n",
        "        return np.array(Y)\n",
        "    \n",
        "    def accuracy_score(self,pred,actual):\n",
        "        \n",
        "        score=0\n",
        "        num_samples = len(pred)\n",
        "        for i in range(num_samples):\n",
        "            if(pred[i]==actual[i]):\n",
        "                score+=1\n",
        "        return (score/num_samples)\n",
        "            \n",
        "\n",
        "    def fit(self, X, Y):\n",
        "        accuracy = {}\n",
        "\n",
        "        for b in range(X.shape[1] + 1):\n",
        "            self.b = b\n",
        "            Y_pred = self.predict(X)\n",
        "            accuracy[b] = self.accuracy_score(Y_pred, Y)\n",
        "\n",
        "        best_b = max(accuracy, key = accuracy.get)\n",
        "        self.b = best_b\n",
        "\n",
        "        print('Optimal value of b is', best_b)\n",
        "        print('Highest accuracy is', accuracy[best_b])"
      ],
      "metadata": {
        "id": "ld4WOyed1ic9"
      },
      "execution_count": null,
      "outputs": []
    },
    {
      "cell_type": "code",
      "source": [
        "#Calling the class MPNeuron\n",
        "mp_neuron = MPNeuron()\n",
        "#Calling the fit method inside the class on the training data\n",
        "mp_neuron.fit(X_binarised_train, Y_train)"
      ],
      "metadata": {
        "colab": {
          "base_uri": "https://localhost:8080/"
        },
        "id": "ovZCmna_1kPV",
        "outputId": "a2b53a80-2fde-4554-a070-15377806db9e"
      },
      "execution_count": null,
      "outputs": [
        {
          "output_type": "stream",
          "name": "stdout",
          "text": [
            "Optimal value of b is 8\n",
            "Highest accuracy is 0.6614583333333334\n"
          ]
        }
      ]
    },
    {
      "cell_type": "code",
      "source": [
        "#Calling the predict method inside the class on the testing data to make predictions\n",
        "pred = mp_neuron.predict(X_binarised_test)\n",
        "c = 0\n",
        "for i in range(len(Y_test)):\n",
        "    #print(pred[i],bool(Y_test[i]),sep='-->')\n",
        "    if(pred[i]==bool(Y_test[i])):\n",
        "        c+=1\n",
        "print(\"Test Accuracy: \", (c/len(Y_test)))"
      ],
      "metadata": {
        "colab": {
          "base_uri": "https://localhost:8080/"
        },
        "id": "6EhUD0zg1mGN",
        "outputId": "44c5ee1b-e8c4-4be3-88a8-27c802166db0"
      },
      "execution_count": null,
      "outputs": [
        {
          "output_type": "stream",
          "name": "stdout",
          "text": [
            "Test Accuracy:  0.5677083333333334\n"
          ]
        }
      ]
    },
    {
      "cell_type": "markdown",
      "source": [
        "###**Perceptron**"
      ],
      "metadata": {
        "id": "YmLtSbSF5S8Z"
      }
    },
    {
      "cell_type": "code",
      "source": [
        "#load data\n",
        "dataset_path = '/content/diabetes.csv'\n",
        "data = pd.read_csv(dataset_path)\n",
        "\n",
        "data.head()"
      ],
      "metadata": {
        "colab": {
          "base_uri": "https://localhost:8080/",
          "height": 206
        },
        "id": "ZI8FKlCV1oI9",
        "outputId": "9bf4c6c2-be0d-4fba-b515-3abaa7e4401b"
      },
      "execution_count": null,
      "outputs": [
        {
          "output_type": "execute_result",
          "data": {
            "text/plain": [
              "   Pregnancies  Glucose  BloodPressure  SkinThickness  Insulin   BMI  \\\n",
              "0            6      148             72             35        0  33.6   \n",
              "1            1       85             66             29        0  26.6   \n",
              "2            8      183             64              0        0  23.3   \n",
              "3            1       89             66             23       94  28.1   \n",
              "4            0      137             40             35      168  43.1   \n",
              "\n",
              "   DiabetesPedigreeFunction  Age  Outcome  \n",
              "0                     0.627   50        1  \n",
              "1                     0.351   31        0  \n",
              "2                     0.672   32        1  \n",
              "3                     0.167   21        0  \n",
              "4                     2.288   33        1  "
            ],
            "text/html": [
              "\n",
              "  <div id=\"df-33dfbff6-df07-4a4a-854a-c724b0f9c787\">\n",
              "    <div class=\"colab-df-container\">\n",
              "      <div>\n",
              "<style scoped>\n",
              "    .dataframe tbody tr th:only-of-type {\n",
              "        vertical-align: middle;\n",
              "    }\n",
              "\n",
              "    .dataframe tbody tr th {\n",
              "        vertical-align: top;\n",
              "    }\n",
              "\n",
              "    .dataframe thead th {\n",
              "        text-align: right;\n",
              "    }\n",
              "</style>\n",
              "<table border=\"1\" class=\"dataframe\">\n",
              "  <thead>\n",
              "    <tr style=\"text-align: right;\">\n",
              "      <th></th>\n",
              "      <th>Pregnancies</th>\n",
              "      <th>Glucose</th>\n",
              "      <th>BloodPressure</th>\n",
              "      <th>SkinThickness</th>\n",
              "      <th>Insulin</th>\n",
              "      <th>BMI</th>\n",
              "      <th>DiabetesPedigreeFunction</th>\n",
              "      <th>Age</th>\n",
              "      <th>Outcome</th>\n",
              "    </tr>\n",
              "  </thead>\n",
              "  <tbody>\n",
              "    <tr>\n",
              "      <th>0</th>\n",
              "      <td>6</td>\n",
              "      <td>148</td>\n",
              "      <td>72</td>\n",
              "      <td>35</td>\n",
              "      <td>0</td>\n",
              "      <td>33.6</td>\n",
              "      <td>0.627</td>\n",
              "      <td>50</td>\n",
              "      <td>1</td>\n",
              "    </tr>\n",
              "    <tr>\n",
              "      <th>1</th>\n",
              "      <td>1</td>\n",
              "      <td>85</td>\n",
              "      <td>66</td>\n",
              "      <td>29</td>\n",
              "      <td>0</td>\n",
              "      <td>26.6</td>\n",
              "      <td>0.351</td>\n",
              "      <td>31</td>\n",
              "      <td>0</td>\n",
              "    </tr>\n",
              "    <tr>\n",
              "      <th>2</th>\n",
              "      <td>8</td>\n",
              "      <td>183</td>\n",
              "      <td>64</td>\n",
              "      <td>0</td>\n",
              "      <td>0</td>\n",
              "      <td>23.3</td>\n",
              "      <td>0.672</td>\n",
              "      <td>32</td>\n",
              "      <td>1</td>\n",
              "    </tr>\n",
              "    <tr>\n",
              "      <th>3</th>\n",
              "      <td>1</td>\n",
              "      <td>89</td>\n",
              "      <td>66</td>\n",
              "      <td>23</td>\n",
              "      <td>94</td>\n",
              "      <td>28.1</td>\n",
              "      <td>0.167</td>\n",
              "      <td>21</td>\n",
              "      <td>0</td>\n",
              "    </tr>\n",
              "    <tr>\n",
              "      <th>4</th>\n",
              "      <td>0</td>\n",
              "      <td>137</td>\n",
              "      <td>40</td>\n",
              "      <td>35</td>\n",
              "      <td>168</td>\n",
              "      <td>43.1</td>\n",
              "      <td>2.288</td>\n",
              "      <td>33</td>\n",
              "      <td>1</td>\n",
              "    </tr>\n",
              "  </tbody>\n",
              "</table>\n",
              "</div>\n",
              "      <button class=\"colab-df-convert\" onclick=\"convertToInteractive('df-33dfbff6-df07-4a4a-854a-c724b0f9c787')\"\n",
              "              title=\"Convert this dataframe to an interactive table.\"\n",
              "              style=\"display:none;\">\n",
              "        \n",
              "  <svg xmlns=\"http://www.w3.org/2000/svg\" height=\"24px\"viewBox=\"0 0 24 24\"\n",
              "       width=\"24px\">\n",
              "    <path d=\"M0 0h24v24H0V0z\" fill=\"none\"/>\n",
              "    <path d=\"M18.56 5.44l.94 2.06.94-2.06 2.06-.94-2.06-.94-.94-2.06-.94 2.06-2.06.94zm-11 1L8.5 8.5l.94-2.06 2.06-.94-2.06-.94L8.5 2.5l-.94 2.06-2.06.94zm10 10l.94 2.06.94-2.06 2.06-.94-2.06-.94-.94-2.06-.94 2.06-2.06.94z\"/><path d=\"M17.41 7.96l-1.37-1.37c-.4-.4-.92-.59-1.43-.59-.52 0-1.04.2-1.43.59L10.3 9.45l-7.72 7.72c-.78.78-.78 2.05 0 2.83L4 21.41c.39.39.9.59 1.41.59.51 0 1.02-.2 1.41-.59l7.78-7.78 2.81-2.81c.8-.78.8-2.07 0-2.86zM5.41 20L4 18.59l7.72-7.72 1.47 1.35L5.41 20z\"/>\n",
              "  </svg>\n",
              "      </button>\n",
              "      \n",
              "  <style>\n",
              "    .colab-df-container {\n",
              "      display:flex;\n",
              "      flex-wrap:wrap;\n",
              "      gap: 12px;\n",
              "    }\n",
              "\n",
              "    .colab-df-convert {\n",
              "      background-color: #E8F0FE;\n",
              "      border: none;\n",
              "      border-radius: 50%;\n",
              "      cursor: pointer;\n",
              "      display: none;\n",
              "      fill: #1967D2;\n",
              "      height: 32px;\n",
              "      padding: 0 0 0 0;\n",
              "      width: 32px;\n",
              "    }\n",
              "\n",
              "    .colab-df-convert:hover {\n",
              "      background-color: #E2EBFA;\n",
              "      box-shadow: 0px 1px 2px rgba(60, 64, 67, 0.3), 0px 1px 3px 1px rgba(60, 64, 67, 0.15);\n",
              "      fill: #174EA6;\n",
              "    }\n",
              "\n",
              "    [theme=dark] .colab-df-convert {\n",
              "      background-color: #3B4455;\n",
              "      fill: #D2E3FC;\n",
              "    }\n",
              "\n",
              "    [theme=dark] .colab-df-convert:hover {\n",
              "      background-color: #434B5C;\n",
              "      box-shadow: 0px 1px 3px 1px rgba(0, 0, 0, 0.15);\n",
              "      filter: drop-shadow(0px 1px 2px rgba(0, 0, 0, 0.3));\n",
              "      fill: #FFFFFF;\n",
              "    }\n",
              "  </style>\n",
              "\n",
              "      <script>\n",
              "        const buttonEl =\n",
              "          document.querySelector('#df-33dfbff6-df07-4a4a-854a-c724b0f9c787 button.colab-df-convert');\n",
              "        buttonEl.style.display =\n",
              "          google.colab.kernel.accessAllowed ? 'block' : 'none';\n",
              "\n",
              "        async function convertToInteractive(key) {\n",
              "          const element = document.querySelector('#df-33dfbff6-df07-4a4a-854a-c724b0f9c787');\n",
              "          const dataTable =\n",
              "            await google.colab.kernel.invokeFunction('convertToInteractive',\n",
              "                                                     [key], {});\n",
              "          if (!dataTable) return;\n",
              "\n",
              "          const docLinkHtml = 'Like what you see? Visit the ' +\n",
              "            '<a target=\"_blank\" href=https://colab.research.google.com/notebooks/data_table.ipynb>data table notebook</a>'\n",
              "            + ' to learn more about interactive tables.';\n",
              "          element.innerHTML = '';\n",
              "          dataTable['output_type'] = 'display_data';\n",
              "          await google.colab.output.renderOutput(dataTable, element);\n",
              "          const docLink = document.createElement('div');\n",
              "          docLink.innerHTML = docLinkHtml;\n",
              "          element.appendChild(docLink);\n",
              "        }\n",
              "      </script>\n",
              "    </div>\n",
              "  </div>\n",
              "  "
            ]
          },
          "metadata": {},
          "execution_count": 15
        }
      ]
    },
    {
      "cell_type": "code",
      "source": [
        "# extract features and labels from data\n",
        "X = data.iloc[:,:-1].values\n",
        "y = data.iloc[:,8].values"
      ],
      "metadata": {
        "id": "ZbQaoYJc5aC2"
      },
      "execution_count": null,
      "outputs": []
    },
    {
      "cell_type": "code",
      "source": [
        "X.shape, y.shape"
      ],
      "metadata": {
        "colab": {
          "base_uri": "https://localhost:8080/"
        },
        "id": "TCVDHlCz5gOk",
        "outputId": "465a6a35-7369-46b5-b115-288fe6f966ee"
      },
      "execution_count": null,
      "outputs": [
        {
          "output_type": "execute_result",
          "data": {
            "text/plain": [
              "((768, 8), (768,))"
            ]
          },
          "metadata": {},
          "execution_count": 17
        }
      ]
    },
    {
      "cell_type": "code",
      "source": [
        "# split data into train and test sets\n",
        "from sklearn.model_selection import train_test_split\n",
        "\n",
        "X_train,X_test,y_train,y_test = train_test_split(X,y,test_size=0.15,random_state=0, stratify = y)"
      ],
      "metadata": {
        "id": "2jgbHLS-5iwU"
      },
      "execution_count": null,
      "outputs": []
    },
    {
      "cell_type": "code",
      "source": [
        "X_train[0]"
      ],
      "metadata": {
        "colab": {
          "base_uri": "https://localhost:8080/"
        },
        "id": "UOUjeEKoBIwu",
        "outputId": "d44c8526-831d-4e36-d26c-5a91f70922f6"
      },
      "execution_count": null,
      "outputs": [
        {
          "output_type": "execute_result",
          "data": {
            "text/plain": [
              "array([  6.   , 125.   ,  68.   ,  30.   , 120.   ,  30.   ,   0.464,\n",
              "        32.   ])"
            ]
          },
          "metadata": {},
          "execution_count": 19
        }
      ]
    },
    {
      "cell_type": "code",
      "source": [
        "X_train.shape, X_test.shape"
      ],
      "metadata": {
        "colab": {
          "base_uri": "https://localhost:8080/"
        },
        "id": "cCEmzNdKBK4X",
        "outputId": "3fd413f1-8c2b-43f7-bf8c-cb6eb0bd55a7"
      },
      "execution_count": null,
      "outputs": [
        {
          "output_type": "execute_result",
          "data": {
            "text/plain": [
              "((652, 8), (116, 8))"
            ]
          },
          "metadata": {},
          "execution_count": 20
        }
      ]
    },
    {
      "cell_type": "code",
      "source": [
        "W = np.ones((1,X_train.shape[1])) # Initialize weights with all ones\n",
        "epochs = 100"
      ],
      "metadata": {
        "id": "hsB9EKTUBNhO"
      },
      "execution_count": null,
      "outputs": []
    },
    {
      "cell_type": "code",
      "source": [
        "W"
      ],
      "metadata": {
        "colab": {
          "base_uri": "https://localhost:8080/"
        },
        "id": "4cmgZ5ZrBP4_",
        "outputId": "fecdb08c-2c6a-4d60-bc49-8df3a0e9e7c9"
      },
      "execution_count": null,
      "outputs": [
        {
          "output_type": "execute_result",
          "data": {
            "text/plain": [
              "array([[1., 1., 1., 1., 1., 1., 1., 1.]])"
            ]
          },
          "metadata": {},
          "execution_count": 22
        }
      ]
    },
    {
      "cell_type": "code",
      "source": [
        "X_train[0]"
      ],
      "metadata": {
        "colab": {
          "base_uri": "https://localhost:8080/"
        },
        "id": "L2ilnQBbBRm-",
        "outputId": "6d2b893b-d79d-4608-e9ba-53b17f215818"
      },
      "execution_count": null,
      "outputs": [
        {
          "output_type": "execute_result",
          "data": {
            "text/plain": [
              "array([  6.   , 125.   ,  68.   ,  30.   , 120.   ,  30.   ,   0.464,\n",
              "        32.   ])"
            ]
          },
          "metadata": {},
          "execution_count": 23
        }
      ]
    },
    {
      "cell_type": "code",
      "source": [
        "# perceptron learning algorithm\n",
        "\n",
        "for epoch in range(epochs):\n",
        "    for i in range(X_train.shape[0]):\n",
        "        g = np.multiply(W,X_train[i])\n",
        "        \n",
        "        if(y_train[i]==1 and np.sum(g)<0):\n",
        "            W = np.add(W,X_train[i])\n",
        "        if(y_train[i]==0 and np.sum(g)>=0):\n",
        "            W = np.subtract(W,X_train[i])"
      ],
      "metadata": {
        "id": "_2Uqd8F6BTQO"
      },
      "execution_count": null,
      "outputs": []
    },
    {
      "cell_type": "code",
      "source": [
        "W"
      ],
      "metadata": {
        "colab": {
          "base_uri": "https://localhost:8080/"
        },
        "id": "LgofTmlwBVkG",
        "outputId": "fc5cfed7-8957-473b-d52b-6ecfcf6e7b8a"
      },
      "execution_count": null,
      "outputs": [
        {
          "output_type": "execute_result",
          "data": {
            "text/plain": [
              "array([[1759.   ,   81.   , -238.   ,  120.   ,  -49.   , -257.4  ,\n",
              "         888.159, -136.   ]])"
            ]
          },
          "metadata": {},
          "execution_count": 25
        }
      ]
    },
    {
      "cell_type": "code",
      "source": [
        "test = X_test[0]\n",
        "test"
      ],
      "metadata": {
        "colab": {
          "base_uri": "https://localhost:8080/"
        },
        "id": "dbRM6Pl8BXUm",
        "outputId": "ab3c2f6c-3670-4acb-932d-c93f089b6fb3"
      },
      "execution_count": null,
      "outputs": [
        {
          "output_type": "execute_result",
          "data": {
            "text/plain": [
              "array([ 4.   , 76.   , 62.   ,  0.   ,  0.   , 34.   ,  0.391, 25.   ])"
            ]
          },
          "metadata": {},
          "execution_count": 26
        }
      ]
    },
    {
      "cell_type": "code",
      "source": [
        "g = np.sum(np.multiply(W,test))"
      ],
      "metadata": {
        "id": "akx86rmoBY5-"
      },
      "execution_count": null,
      "outputs": []
    },
    {
      "cell_type": "code",
      "source": [
        "g"
      ],
      "metadata": {
        "colab": {
          "base_uri": "https://localhost:8080/"
        },
        "id": "2OlBiuwUBaye",
        "outputId": "2998ec19-ba00-408b-bbfd-7353df4b354b"
      },
      "execution_count": null,
      "outputs": [
        {
          "output_type": "execute_result",
          "data": {
            "text/plain": [
              "-13368.329830999768"
            ]
          },
          "metadata": {},
          "execution_count": 28
        }
      ]
    },
    {
      "cell_type": "code",
      "source": [
        "y_test[0]"
      ],
      "metadata": {
        "colab": {
          "base_uri": "https://localhost:8080/"
        },
        "id": "Z8J2CHt6BbY3",
        "outputId": "d54c62d5-9f16-4cdb-f0e3-3ba495056e6b"
      },
      "execution_count": null,
      "outputs": [
        {
          "output_type": "execute_result",
          "data": {
            "text/plain": [
              "0"
            ]
          },
          "metadata": {},
          "execution_count": 29
        }
      ]
    },
    {
      "cell_type": "code",
      "source": [
        "y_pred = []\n",
        "for i in range(X_test.shape[0]):\n",
        "    g = np.multiply(W,X_test[i])\n",
        "    if np.sum(g)>=0:\n",
        "        y_pred.append(1)\n",
        "    else:\n",
        "        y_pred.append(0)"
      ],
      "metadata": {
        "id": "U1rpPMqJBfle"
      },
      "execution_count": null,
      "outputs": []
    },
    {
      "cell_type": "code",
      "source": [
        "score = 0\n",
        "print(\"Actual-->Predicted\\n\")\n",
        "for i in range(X_test.shape[0]):\n",
        "    print(y_test[i],'-->',y_pred[i])\n",
        "    \n",
        "    if(y_test[i]==y_pred[i]):\n",
        "        score+=1\n",
        "        \n",
        "acc = (score/X_test.shape[0])*100\n",
        "print('\\nAccuracy %.2f' % acc,\"%\")"
      ],
      "metadata": {
        "colab": {
          "base_uri": "https://localhost:8080/"
        },
        "id": "-yFPffMrBhRV",
        "outputId": "3aeed721-a3ac-40a9-c241-d9c0239c1470"
      },
      "execution_count": null,
      "outputs": [
        {
          "output_type": "stream",
          "name": "stdout",
          "text": [
            "Actual-->Predicted\n",
            "\n",
            "0 --> 0\n",
            "0 --> 0\n",
            "0 --> 0\n",
            "1 --> 0\n",
            "1 --> 0\n",
            "0 --> 0\n",
            "0 --> 0\n",
            "0 --> 1\n",
            "0 --> 0\n",
            "0 --> 0\n",
            "0 --> 0\n",
            "0 --> 0\n",
            "0 --> 0\n",
            "0 --> 0\n",
            "1 --> 0\n",
            "0 --> 0\n",
            "1 --> 0\n",
            "0 --> 0\n",
            "1 --> 0\n",
            "1 --> 0\n",
            "1 --> 0\n",
            "0 --> 0\n",
            "1 --> 0\n",
            "1 --> 0\n",
            "0 --> 0\n",
            "1 --> 0\n",
            "0 --> 0\n",
            "0 --> 0\n",
            "0 --> 0\n",
            "0 --> 0\n",
            "0 --> 0\n",
            "0 --> 0\n",
            "0 --> 0\n",
            "0 --> 0\n",
            "0 --> 0\n",
            "0 --> 0\n",
            "1 --> 0\n",
            "0 --> 0\n",
            "0 --> 0\n",
            "1 --> 0\n",
            "0 --> 0\n",
            "0 --> 0\n",
            "1 --> 0\n",
            "0 --> 0\n",
            "0 --> 0\n",
            "1 --> 0\n",
            "1 --> 0\n",
            "0 --> 0\n",
            "0 --> 0\n",
            "1 --> 0\n",
            "0 --> 0\n",
            "0 --> 0\n",
            "0 --> 0\n",
            "0 --> 0\n",
            "0 --> 0\n",
            "0 --> 0\n",
            "1 --> 0\n",
            "0 --> 0\n",
            "1 --> 0\n",
            "1 --> 0\n",
            "1 --> 0\n",
            "1 --> 0\n",
            "0 --> 0\n",
            "1 --> 0\n",
            "1 --> 0\n",
            "1 --> 0\n",
            "1 --> 0\n",
            "0 --> 0\n",
            "1 --> 0\n",
            "1 --> 0\n",
            "1 --> 0\n",
            "1 --> 0\n",
            "1 --> 0\n",
            "0 --> 0\n",
            "0 --> 0\n",
            "0 --> 0\n",
            "1 --> 0\n",
            "0 --> 0\n",
            "1 --> 1\n",
            "0 --> 0\n",
            "1 --> 0\n",
            "0 --> 0\n",
            "0 --> 0\n",
            "0 --> 0\n",
            "0 --> 0\n",
            "0 --> 0\n",
            "0 --> 0\n",
            "0 --> 0\n",
            "0 --> 0\n",
            "1 --> 0\n",
            "1 --> 0\n",
            "0 --> 0\n",
            "1 --> 0\n",
            "0 --> 0\n",
            "0 --> 0\n",
            "1 --> 0\n",
            "1 --> 0\n",
            "0 --> 0\n",
            "0 --> 0\n",
            "1 --> 0\n",
            "0 --> 0\n",
            "0 --> 0\n",
            "0 --> 0\n",
            "0 --> 0\n",
            "0 --> 1\n",
            "1 --> 0\n",
            "0 --> 0\n",
            "0 --> 0\n",
            "0 --> 0\n",
            "0 --> 0\n",
            "0 --> 0\n",
            "0 --> 0\n",
            "0 --> 0\n",
            "0 --> 0\n",
            "0 --> 0\n",
            "0 --> 0\n",
            "\n",
            "Accuracy 64.66 %\n"
          ]
        }
      ]
    },
    {
      "cell_type": "code",
      "source": [
        "# Train Data\n",
        "\n",
        "y_pred = []\n",
        "for i in range(X_train.shape[0]):\n",
        "    g = np.multiply(W,X_train[i])\n",
        "    if np.sum(g)>=0:\n",
        "        y_pred.append(1)\n",
        "    else:\n",
        "        y_pred.append(0)\n",
        "        \n",
        "    \n",
        "print(\"Actual-->Predicted\\n\")\n",
        "\n",
        "score=0\n",
        "for i in range(X_train.shape[0]):\n",
        "    print(y_train[i],'-->',y_pred[i])\n",
        "    \n",
        "    if(y_train[i]==y_pred[i]):\n",
        "        score+=1\n",
        "        \n",
        "acc = (score/X_train.shape[0])*100\n",
        "print('\\nAccuracy %.2f' % acc,\"%\")"
      ],
      "metadata": {
        "colab": {
          "base_uri": "https://localhost:8080/"
        },
        "id": "l4igiOWBBi49",
        "outputId": "2908eb57-a794-4409-8a00-12ad399b4c23"
      },
      "execution_count": null,
      "outputs": [
        {
          "output_type": "stream",
          "name": "stdout",
          "text": [
            "Actual-->Predicted\n",
            "\n",
            "0 --> 0\n",
            "0 --> 0\n",
            "0 --> 0\n",
            "1 --> 0\n",
            "0 --> 0\n",
            "1 --> 0\n",
            "0 --> 0\n",
            "0 --> 0\n",
            "0 --> 0\n",
            "0 --> 0\n",
            "0 --> 0\n",
            "1 --> 0\n",
            "1 --> 0\n",
            "0 --> 0\n",
            "0 --> 0\n",
            "0 --> 0\n",
            "0 --> 0\n",
            "0 --> 0\n",
            "0 --> 0\n",
            "0 --> 0\n",
            "1 --> 0\n",
            "1 --> 0\n",
            "0 --> 0\n",
            "0 --> 0\n",
            "0 --> 0\n",
            "0 --> 0\n",
            "1 --> 0\n",
            "0 --> 0\n",
            "0 --> 0\n",
            "0 --> 0\n",
            "0 --> 1\n",
            "0 --> 0\n",
            "0 --> 0\n",
            "0 --> 0\n",
            "1 --> 0\n",
            "0 --> 0\n",
            "1 --> 1\n",
            "0 --> 0\n",
            "0 --> 1\n",
            "1 --> 0\n",
            "0 --> 0\n",
            "1 --> 0\n",
            "0 --> 0\n",
            "1 --> 0\n",
            "1 --> 0\n",
            "0 --> 0\n",
            "1 --> 0\n",
            "0 --> 0\n",
            "0 --> 0\n",
            "0 --> 0\n",
            "1 --> 0\n",
            "0 --> 0\n",
            "0 --> 0\n",
            "0 --> 0\n",
            "1 --> 0\n",
            "0 --> 0\n",
            "1 --> 0\n",
            "0 --> 0\n",
            "1 --> 0\n",
            "0 --> 0\n",
            "0 --> 0\n",
            "0 --> 0\n",
            "1 --> 0\n",
            "0 --> 0\n",
            "0 --> 0\n",
            "1 --> 0\n",
            "1 --> 0\n",
            "0 --> 0\n",
            "0 --> 1\n",
            "1 --> 0\n",
            "0 --> 0\n",
            "1 --> 0\n",
            "0 --> 0\n",
            "0 --> 0\n",
            "1 --> 0\n",
            "0 --> 0\n",
            "1 --> 0\n",
            "0 --> 0\n",
            "0 --> 0\n",
            "0 --> 1\n",
            "0 --> 0\n",
            "0 --> 0\n",
            "1 --> 0\n",
            "0 --> 0\n",
            "0 --> 0\n",
            "1 --> 0\n",
            "0 --> 0\n",
            "0 --> 0\n",
            "0 --> 0\n",
            "0 --> 0\n",
            "0 --> 0\n",
            "1 --> 0\n",
            "0 --> 0\n",
            "0 --> 0\n",
            "1 --> 0\n",
            "0 --> 0\n",
            "0 --> 0\n",
            "1 --> 0\n",
            "0 --> 0\n",
            "0 --> 0\n",
            "1 --> 0\n",
            "0 --> 0\n",
            "0 --> 0\n",
            "0 --> 0\n",
            "0 --> 0\n",
            "1 --> 0\n",
            "1 --> 0\n",
            "1 --> 0\n",
            "0 --> 0\n",
            "1 --> 0\n",
            "0 --> 0\n",
            "0 --> 0\n",
            "1 --> 0\n",
            "0 --> 0\n",
            "0 --> 0\n",
            "0 --> 0\n",
            "0 --> 0\n",
            "1 --> 0\n",
            "0 --> 0\n",
            "0 --> 0\n",
            "0 --> 0\n",
            "1 --> 1\n",
            "0 --> 0\n",
            "0 --> 1\n",
            "0 --> 0\n",
            "0 --> 0\n",
            "0 --> 0\n",
            "0 --> 0\n",
            "1 --> 0\n",
            "0 --> 0\n",
            "0 --> 0\n",
            "0 --> 0\n",
            "0 --> 0\n",
            "0 --> 0\n",
            "0 --> 0\n",
            "0 --> 0\n",
            "0 --> 0\n",
            "0 --> 0\n",
            "0 --> 0\n",
            "0 --> 0\n",
            "0 --> 0\n",
            "1 --> 0\n",
            "0 --> 0\n",
            "0 --> 0\n",
            "1 --> 0\n",
            "1 --> 0\n",
            "1 --> 0\n",
            "0 --> 0\n",
            "0 --> 0\n",
            "0 --> 0\n",
            "1 --> 0\n",
            "0 --> 0\n",
            "0 --> 0\n",
            "1 --> 0\n",
            "0 --> 0\n",
            "0 --> 0\n",
            "0 --> 0\n",
            "0 --> 0\n",
            "0 --> 0\n",
            "1 --> 0\n",
            "0 --> 0\n",
            "0 --> 0\n",
            "0 --> 0\n",
            "1 --> 0\n",
            "1 --> 0\n",
            "0 --> 0\n",
            "1 --> 0\n",
            "0 --> 0\n",
            "1 --> 0\n",
            "1 --> 0\n",
            "1 --> 0\n",
            "0 --> 0\n",
            "1 --> 0\n",
            "1 --> 0\n",
            "1 --> 0\n",
            "1 --> 0\n",
            "1 --> 0\n",
            "0 --> 0\n",
            "0 --> 0\n",
            "1 --> 0\n",
            "0 --> 0\n",
            "0 --> 0\n",
            "0 --> 0\n",
            "0 --> 0\n",
            "0 --> 0\n",
            "1 --> 0\n",
            "0 --> 0\n",
            "0 --> 1\n",
            "0 --> 0\n",
            "1 --> 0\n",
            "1 --> 1\n",
            "0 --> 0\n",
            "0 --> 0\n",
            "1 --> 0\n",
            "0 --> 0\n",
            "0 --> 0\n",
            "0 --> 0\n",
            "0 --> 0\n",
            "0 --> 0\n",
            "0 --> 0\n",
            "0 --> 0\n",
            "0 --> 0\n",
            "0 --> 0\n",
            "0 --> 0\n",
            "0 --> 0\n",
            "1 --> 0\n",
            "0 --> 0\n",
            "0 --> 0\n",
            "1 --> 0\n",
            "1 --> 0\n",
            "0 --> 0\n",
            "1 --> 0\n",
            "0 --> 0\n",
            "1 --> 1\n",
            "0 --> 0\n",
            "0 --> 0\n",
            "0 --> 0\n",
            "1 --> 0\n",
            "0 --> 0\n",
            "0 --> 0\n",
            "0 --> 1\n",
            "0 --> 0\n",
            "0 --> 0\n",
            "1 --> 0\n",
            "0 --> 0\n",
            "0 --> 0\n",
            "0 --> 0\n",
            "0 --> 0\n",
            "1 --> 0\n",
            "0 --> 0\n",
            "1 --> 1\n",
            "1 --> 0\n",
            "1 --> 0\n",
            "1 --> 0\n",
            "1 --> 1\n",
            "0 --> 0\n",
            "1 --> 0\n",
            "0 --> 0\n",
            "1 --> 0\n",
            "0 --> 0\n",
            "0 --> 0\n",
            "0 --> 0\n",
            "0 --> 0\n",
            "0 --> 0\n",
            "0 --> 0\n",
            "0 --> 0\n",
            "0 --> 0\n",
            "0 --> 0\n",
            "1 --> 0\n",
            "1 --> 0\n",
            "1 --> 0\n",
            "0 --> 0\n",
            "0 --> 0\n",
            "1 --> 0\n",
            "0 --> 0\n",
            "0 --> 0\n",
            "1 --> 1\n",
            "1 --> 0\n",
            "0 --> 0\n",
            "1 --> 0\n",
            "1 --> 0\n",
            "0 --> 0\n",
            "1 --> 0\n",
            "0 --> 0\n",
            "0 --> 0\n",
            "1 --> 1\n",
            "1 --> 0\n",
            "1 --> 0\n",
            "0 --> 0\n",
            "1 --> 0\n",
            "1 --> 0\n",
            "1 --> 0\n",
            "0 --> 0\n",
            "1 --> 0\n",
            "1 --> 0\n",
            "1 --> 0\n",
            "1 --> 0\n",
            "1 --> 0\n",
            "0 --> 0\n",
            "1 --> 1\n",
            "0 --> 0\n",
            "0 --> 0\n",
            "1 --> 0\n",
            "1 --> 0\n",
            "1 --> 1\n",
            "0 --> 0\n",
            "0 --> 0\n",
            "0 --> 0\n",
            "1 --> 0\n",
            "0 --> 0\n",
            "0 --> 0\n",
            "1 --> 0\n",
            "0 --> 0\n",
            "1 --> 0\n",
            "0 --> 0\n",
            "0 --> 0\n",
            "0 --> 0\n",
            "0 --> 0\n",
            "1 --> 0\n",
            "1 --> 0\n",
            "1 --> 0\n",
            "0 --> 0\n",
            "0 --> 0\n",
            "0 --> 1\n",
            "0 --> 0\n",
            "0 --> 0\n",
            "0 --> 0\n",
            "1 --> 0\n",
            "0 --> 0\n",
            "0 --> 0\n",
            "0 --> 0\n",
            "0 --> 0\n",
            "1 --> 0\n",
            "0 --> 0\n",
            "1 --> 1\n",
            "1 --> 0\n",
            "1 --> 0\n",
            "1 --> 0\n",
            "0 --> 0\n",
            "0 --> 0\n",
            "0 --> 0\n",
            "0 --> 1\n",
            "0 --> 0\n",
            "0 --> 1\n",
            "1 --> 0\n",
            "1 --> 0\n",
            "0 --> 0\n",
            "0 --> 0\n",
            "0 --> 0\n",
            "0 --> 0\n",
            "0 --> 0\n",
            "0 --> 0\n",
            "0 --> 0\n",
            "0 --> 1\n",
            "0 --> 0\n",
            "0 --> 0\n",
            "1 --> 1\n",
            "0 --> 0\n",
            "0 --> 0\n",
            "0 --> 0\n",
            "1 --> 0\n",
            "0 --> 0\n",
            "0 --> 0\n",
            "0 --> 0\n",
            "1 --> 0\n",
            "1 --> 0\n",
            "0 --> 0\n",
            "0 --> 0\n",
            "1 --> 0\n",
            "0 --> 0\n",
            "0 --> 0\n",
            "0 --> 0\n",
            "1 --> 0\n",
            "0 --> 0\n",
            "1 --> 1\n",
            "0 --> 0\n",
            "0 --> 0\n",
            "0 --> 0\n",
            "1 --> 0\n",
            "1 --> 0\n",
            "0 --> 0\n",
            "1 --> 0\n",
            "1 --> 1\n",
            "1 --> 0\n",
            "0 --> 0\n",
            "1 --> 0\n",
            "0 --> 0\n",
            "1 --> 0\n",
            "0 --> 0\n",
            "1 --> 0\n",
            "0 --> 1\n",
            "1 --> 0\n",
            "0 --> 1\n",
            "1 --> 0\n",
            "1 --> 0\n",
            "1 --> 1\n",
            "0 --> 0\n",
            "1 --> 0\n",
            "0 --> 0\n",
            "0 --> 0\n",
            "1 --> 0\n",
            "1 --> 0\n",
            "1 --> 0\n",
            "0 --> 0\n",
            "1 --> 0\n",
            "1 --> 0\n",
            "0 --> 0\n",
            "0 --> 0\n",
            "0 --> 0\n",
            "0 --> 0\n",
            "0 --> 0\n",
            "0 --> 0\n",
            "1 --> 0\n",
            "0 --> 0\n",
            "0 --> 0\n",
            "0 --> 0\n",
            "0 --> 0\n",
            "0 --> 0\n",
            "0 --> 0\n",
            "0 --> 0\n",
            "1 --> 0\n",
            "0 --> 0\n",
            "1 --> 0\n",
            "1 --> 0\n",
            "1 --> 0\n",
            "0 --> 0\n",
            "0 --> 0\n",
            "0 --> 1\n",
            "0 --> 0\n",
            "0 --> 0\n",
            "1 --> 0\n",
            "0 --> 0\n",
            "1 --> 0\n",
            "1 --> 0\n",
            "0 --> 0\n",
            "0 --> 0\n",
            "0 --> 0\n",
            "0 --> 0\n",
            "1 --> 0\n",
            "0 --> 0\n",
            "0 --> 0\n",
            "1 --> 0\n",
            "0 --> 0\n",
            "1 --> 1\n",
            "0 --> 0\n",
            "0 --> 0\n",
            "0 --> 0\n",
            "1 --> 0\n",
            "1 --> 0\n",
            "0 --> 1\n",
            "0 --> 0\n",
            "0 --> 0\n",
            "0 --> 0\n",
            "1 --> 0\n",
            "0 --> 0\n",
            "1 --> 0\n",
            "0 --> 0\n",
            "0 --> 0\n",
            "0 --> 0\n",
            "0 --> 0\n",
            "0 --> 0\n",
            "0 --> 0\n",
            "1 --> 0\n",
            "0 --> 0\n",
            "1 --> 0\n",
            "1 --> 0\n",
            "0 --> 0\n",
            "0 --> 0\n",
            "0 --> 0\n",
            "0 --> 0\n",
            "0 --> 0\n",
            "1 --> 0\n",
            "0 --> 0\n",
            "0 --> 0\n",
            "0 --> 0\n",
            "0 --> 0\n",
            "0 --> 0\n",
            "1 --> 0\n",
            "0 --> 0\n",
            "0 --> 0\n",
            "0 --> 0\n",
            "1 --> 0\n",
            "1 --> 0\n",
            "0 --> 0\n",
            "1 --> 0\n",
            "0 --> 0\n",
            "0 --> 0\n",
            "0 --> 0\n",
            "1 --> 0\n",
            "0 --> 0\n",
            "1 --> 0\n",
            "0 --> 0\n",
            "1 --> 0\n",
            "1 --> 0\n",
            "1 --> 0\n",
            "0 --> 0\n",
            "0 --> 0\n",
            "0 --> 0\n",
            "0 --> 0\n",
            "0 --> 0\n",
            "0 --> 0\n",
            "1 --> 0\n",
            "1 --> 0\n",
            "0 --> 0\n",
            "1 --> 0\n",
            "0 --> 0\n",
            "0 --> 0\n",
            "0 --> 0\n",
            "0 --> 0\n",
            "0 --> 0\n",
            "0 --> 0\n",
            "0 --> 0\n",
            "0 --> 0\n",
            "1 --> 0\n",
            "0 --> 0\n",
            "0 --> 0\n",
            "0 --> 0\n",
            "0 --> 0\n",
            "0 --> 0\n",
            "1 --> 0\n",
            "0 --> 0\n",
            "0 --> 0\n",
            "0 --> 0\n",
            "1 --> 0\n",
            "1 --> 1\n",
            "0 --> 0\n",
            "1 --> 0\n",
            "0 --> 0\n",
            "1 --> 0\n",
            "1 --> 0\n",
            "0 --> 0\n",
            "0 --> 0\n",
            "0 --> 0\n",
            "0 --> 0\n",
            "1 --> 0\n",
            "1 --> 0\n",
            "1 --> 0\n",
            "0 --> 1\n",
            "0 --> 0\n",
            "0 --> 0\n",
            "0 --> 0\n",
            "0 --> 0\n",
            "0 --> 0\n",
            "1 --> 0\n",
            "0 --> 0\n",
            "0 --> 0\n",
            "1 --> 1\n",
            "0 --> 0\n",
            "0 --> 0\n",
            "0 --> 0\n",
            "1 --> 0\n",
            "1 --> 0\n",
            "1 --> 0\n",
            "1 --> 0\n",
            "0 --> 0\n",
            "1 --> 0\n",
            "0 --> 0\n",
            "1 --> 0\n",
            "0 --> 0\n",
            "0 --> 0\n",
            "0 --> 0\n",
            "0 --> 0\n",
            "0 --> 0\n",
            "1 --> 0\n",
            "0 --> 0\n",
            "0 --> 0\n",
            "0 --> 0\n",
            "0 --> 0\n",
            "0 --> 0\n",
            "0 --> 0\n",
            "1 --> 0\n",
            "1 --> 0\n",
            "1 --> 0\n",
            "0 --> 0\n",
            "0 --> 0\n",
            "0 --> 0\n",
            "0 --> 0\n",
            "1 --> 0\n",
            "0 --> 0\n",
            "0 --> 0\n",
            "0 --> 0\n",
            "1 --> 0\n",
            "0 --> 0\n",
            "1 --> 0\n",
            "0 --> 0\n",
            "0 --> 0\n",
            "1 --> 0\n",
            "0 --> 0\n",
            "0 --> 0\n",
            "0 --> 0\n",
            "0 --> 0\n",
            "0 --> 0\n",
            "0 --> 0\n",
            "0 --> 0\n",
            "0 --> 0\n",
            "0 --> 0\n",
            "1 --> 0\n",
            "0 --> 0\n",
            "0 --> 0\n",
            "0 --> 0\n",
            "1 --> 0\n",
            "0 --> 0\n",
            "0 --> 0\n",
            "1 --> 0\n",
            "1 --> 0\n",
            "1 --> 0\n",
            "0 --> 0\n",
            "1 --> 0\n",
            "1 --> 0\n",
            "0 --> 0\n",
            "0 --> 0\n",
            "1 --> 0\n",
            "0 --> 0\n",
            "0 --> 0\n",
            "0 --> 0\n",
            "0 --> 0\n",
            "0 --> 0\n",
            "1 --> 0\n",
            "1 --> 1\n",
            "0 --> 0\n",
            "1 --> 1\n",
            "0 --> 0\n",
            "0 --> 0\n",
            "1 --> 0\n",
            "1 --> 0\n",
            "0 --> 0\n",
            "0 --> 0\n",
            "1 --> 1\n",
            "0 --> 0\n",
            "1 --> 0\n",
            "1 --> 0\n",
            "0 --> 0\n",
            "0 --> 0\n",
            "0 --> 0\n",
            "0 --> 0\n",
            "1 --> 0\n",
            "0 --> 0\n",
            "1 --> 0\n",
            "0 --> 0\n",
            "1 --> 1\n",
            "1 --> 0\n",
            "0 --> 0\n",
            "0 --> 0\n",
            "0 --> 0\n",
            "0 --> 0\n",
            "1 --> 0\n",
            "0 --> 0\n",
            "0 --> 0\n",
            "0 --> 0\n",
            "0 --> 1\n",
            "0 --> 0\n",
            "1 --> 0\n",
            "0 --> 0\n",
            "0 --> 0\n",
            "1 --> 0\n",
            "1 --> 0\n",
            "0 --> 0\n",
            "1 --> 0\n",
            "0 --> 0\n",
            "0 --> 0\n",
            "0 --> 0\n",
            "1 --> 0\n",
            "1 --> 0\n",
            "1 --> 0\n",
            "1 --> 0\n",
            "0 --> 0\n",
            "0 --> 0\n",
            "0 --> 0\n",
            "1 --> 0\n",
            "0 --> 0\n",
            "1 --> 0\n",
            "0 --> 0\n",
            "\n",
            "Accuracy 65.80 %\n"
          ]
        }
      ]
    },
    {
      "cell_type": "code",
      "source": [
        "from sklearn.linear_model import Perceptron\n",
        "\n",
        "model = Perceptron(max_iter=100, random_state=5)\n",
        "model.fit(X_train,y_train)\n",
        "pred = model.predict(X_test)\n",
        "\n",
        "acc = model.score(X_test,y_test)\n",
        "print(acc*100)\n",
        "\n",
        "y_pred = model.predict(X_test)"
      ],
      "metadata": {
        "colab": {
          "base_uri": "https://localhost:8080/"
        },
        "id": "ahvOoaFUBmSW",
        "outputId": "c27eb92a-d2e6-4549-d845-bcb8ff8b19d7"
      },
      "execution_count": null,
      "outputs": [
        {
          "output_type": "stream",
          "name": "stdout",
          "text": [
            "60.3448275862069\n"
          ]
        }
      ]
    },
    {
      "cell_type": "code",
      "source": [
        "y_pred"
      ],
      "metadata": {
        "colab": {
          "base_uri": "https://localhost:8080/"
        },
        "id": "Dm5MhtLABpLP",
        "outputId": "5d654409-7d66-49b2-e8c3-65d12615b862"
      },
      "execution_count": null,
      "outputs": [
        {
          "output_type": "execute_result",
          "data": {
            "text/plain": [
              "array([0, 0, 0, 0, 0, 0, 1, 0, 0, 1, 0, 0, 0, 1, 0, 0, 0, 0, 0, 1, 1, 0,\n",
              "       1, 0, 0, 0, 0, 0, 0, 0, 1, 0, 0, 0, 0, 0, 0, 1, 0, 1, 0, 0, 0, 0,\n",
              "       0, 0, 0, 0, 1, 0, 0, 0, 0, 0, 0, 0, 1, 0, 0, 0, 0, 0, 0, 0, 0, 0,\n",
              "       1, 0, 0, 1, 0, 1, 0, 0, 1, 1, 0, 0, 0, 1, 0, 0, 0, 1, 0, 0, 0, 0,\n",
              "       0, 0, 0, 1, 0, 1, 0, 0, 0, 0, 0, 0, 0, 0, 0, 0, 0, 0, 1, 0, 0, 0,\n",
              "       0, 0, 0, 0, 0, 1])"
            ]
          },
          "metadata": {},
          "execution_count": 34
        }
      ]
    },
    {
      "cell_type": "code",
      "source": [
        "score = 0\n",
        "#print(\"Actual-->Predicted\\n\")\n",
        "for i in range(X_test.shape[0]):\n",
        "    #print(y_test[i],'-->',pred[i])\n",
        "    \n",
        "    if(y_test[i]==pred[i]):\n",
        "        score+=1\n",
        "        \n",
        "acc = (score/X_test.shape[0])*100\n",
        "print('\\nAccuracy %.2f' % acc,\"%\")"
      ],
      "metadata": {
        "id": "ZXV257iyBq4X",
        "outputId": "e2ca53b5-6a92-45fa-c924-61c2cbce5ac7",
        "colab": {
          "base_uri": "https://localhost:8080/"
        }
      },
      "execution_count": null,
      "outputs": [
        {
          "output_type": "stream",
          "name": "stdout",
          "text": [
            "\n",
            "Accuracy 60.34 %\n"
          ]
        }
      ]
    },
    {
      "cell_type": "code",
      "source": [],
      "metadata": {
        "id": "pEnkz9FZBsp_"
      },
      "execution_count": null,
      "outputs": []
    }
  ]
}